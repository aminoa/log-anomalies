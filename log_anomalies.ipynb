{
 "cells": [
  {
   "cell_type": "code",
   "execution_count": 15,
   "metadata": {},
   "outputs": [],
   "source": [
    "import json\n",
    "import os\n",
    "from logai.applications.log_anomaly_detection import LogAnomalyDetection\n",
    "from logai.applications.application_interfaces import WorkFlowConfig\n",
    "\n",
    "json_config = \"\"\"{\n",
    "      \"open_set_data_loader_config\": {\n",
    "        \"dataset_name\": \"HealthApp\",\n",
    "        \"filepath\": \"./data/HealthApp.log\"\n",
    "      },\n",
    "      \"preprocessor_config\": {\n",
    "          \"custom_delimiters_regex\":[]\n",
    "      },\n",
    "      \"log_parser_config\": {\n",
    "        \"parsing_algorithm\": \"drain\",\n",
    "        \"parsing_algo_params\": {\n",
    "          \"sim_th\": 0.5,\n",
    "          \"depth\": 5\n",
    "        }\n",
    "      },\n",
    "      \"feature_extractor_config\": {\n",
    "          \"group_by_category\": [\"parsed_logline\", \"Action\", \"ID\"],\n",
    "          \"group_by_time\": \"15m\"\n",
    "      },\n",
    "      \"log_vectorizer_config\": {\n",
    "          \"algo_name\": \"word2vec\"\n",
    "      },\n",
    "      \"categorical_encoder_config\": {\n",
    "          \"name\": \"label_encoder\"\n",
    "      },\n",
    "      \"anomaly_detection_config\": {\n",
    "          \"algo_name\": \"isolation_forest\"\n",
    "      }\n",
    "}\n",
    "\"\"\"\n",
    "\n",
    "config = json.loads(json_config)\n",
    "workflow_config = WorkFlowConfig.from_dict(config)\n",
    "app = LogAnomalyDetection(workflow_config)"
   ]
  },
  {
   "cell_type": "code",
   "execution_count": 16,
   "metadata": {},
   "outputs": [
    {
     "name": "stderr",
     "output_type": "stream",
     "text": [
      "/home/codespace/.python/current/lib/python3.10/site-packages/logai/dataloader/data_loader.py:153: SettingWithCopyWarning: \n",
      "A value is trying to be set on a copy of a slice from a DataFrame.\n",
      "Try using .loc[row_indexer,col_indexer] = value instead\n",
      "\n",
      "See the caveats in the documentation: https://pandas.pydata.org/pandas-docs/stable/user_guide/indexing.html#returning-a-view-versus-a-copy\n",
      "  selected[constants.LOG_TIMESTAMPS] = pd.to_datetime(\n"
     ]
    }
   ],
   "source": [
    "app.execute()"
   ]
  }
 ],
 "metadata": {
  "kernelspec": {
   "display_name": "bigdata",
   "language": "python",
   "name": "python3"
  },
  "language_info": {
   "codemirror_mode": {
    "name": "ipython",
    "version": 3
   },
   "file_extension": ".py",
   "mimetype": "text/x-python",
   "name": "python",
   "nbconvert_exporter": "python",
   "pygments_lexer": "ipython3",
   "version": "3.10.13"
  }
 },
 "nbformat": 4,
 "nbformat_minor": 2
}
