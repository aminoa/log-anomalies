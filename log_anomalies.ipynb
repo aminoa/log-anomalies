{
 "cells": [
  {
   "cell_type": "code",
   "execution_count": 1,
   "metadata": {},
   "outputs": [],
   "source": [
    "import json\n",
    "\n",
    "from logai.applications.application_interfaces import WorkFlowConfig\n",
    "from logai.applications.log_anomaly_detection import LogAnomalyDetection\n",
    "\n",
    "# path to json configuration file\n",
    "json_config = \"./log_anomaly_detection_config.json\"\n",
    "\n",
    "# Create log anomaly detection application workflow configuration\n",
    "config = json.loads(json_config)\n",
    "workflow_config = WorkFlowConfig.from_dict(config) \n",
    "\n",
    "# Create LogAnomalyDetection Application for given workflow_config\n",
    "app = LogAnomalyDetection(workflow_config)\n",
    "\n",
    "# Execute App\n",
    "app.execute()"
   ]
  }
 ],
 "metadata": {
  "kernelspec": {
   "display_name": "bigdata",
   "language": "python",
   "name": "python3"
  },
  "language_info": {
   "codemirror_mode": {
    "name": "ipython",
    "version": 3
   },
   "file_extension": ".py",
   "mimetype": "text/x-python",
   "name": "python",
   "nbconvert_exporter": "python",
   "pygments_lexer": "ipython3",
   "version": "3.11.5"
  }
 },
 "nbformat": 4,
 "nbformat_minor": 2
}
