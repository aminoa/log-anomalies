{
 "cells": [
  {
   "cell_type": "markdown",
   "metadata": {},
   "source": [
    "## Adding bonsai to logai support"
   ]
  },
  {
   "cell_type": "code",
   "execution_count": 1,
   "metadata": {},
   "outputs": [],
   "source": [
    "import time \n",
    "import os \n",
    "from query_from_bonsai import bonsai2logai\n",
    "        "
   ]
  },
  {
   "cell_type": "code",
   "execution_count": 2,
   "metadata": {},
   "outputs": [
    {
     "name": "stdout",
     "output_type": "stream",
     "text": [
      "Connected to Bonsai True\n"
     ]
    }
   ],
   "source": [
    "os.environ['BONSAI_URL'] = '' # add ES url\n",
    "queryclass = bonsai2logai()"
   ]
  },
  {
   "cell_type": "code",
   "execution_count": 3,
   "metadata": {},
   "outputs": [
    {
     "name": "stdout",
     "output_type": "stream",
     "text": [
      "Starting logai...\n",
      "Loaded data...\n",
      "Preprocessed data...\n"
     ]
    },
    {
     "name": "stderr",
     "output_type": "stream",
     "text": [
      "/Users/ajay/Documents/NYU/Notes/BigData/Project/log-anomalies/logai/logai/dataloader/data_loader.py:153: SettingWithCopyWarning: \n",
      "A value is trying to be set on a copy of a slice from a DataFrame.\n",
      "Try using .loc[row_indexer,col_indexer] = value instead\n",
      "\n",
      "See the caveats in the documentation: https://pandas.pydata.org/pandas-docs/stable/user_guide/indexing.html#returning-a-view-versus-a-copy\n",
      "  selected[constants.LOG_TIMESTAMPS] = pd.to_datetime(\n"
     ]
    },
    {
     "name": "stdout",
     "output_type": "stream",
     "text": [
      "Parsed data...\n",
      "Start time series...\n",
      "Time, feature extraction...\n",
      "Time, did anomaly detecetion...\n",
      "Start semantic...\n",
      "Semantic, got features...\n",
      "Semantic, got anomalies...\n",
      "8675                              onStandStepChanged 3662\n",
      "4862      calculateCaloriesWithCache totalCalories=127589\n",
      "9476                                    flush sensor data\n",
      "8247    processHandleBroadcastAction action:android.in...\n",
      "2721     getTodayTotalDetailSteps = 1514044440000##721...\n",
      "Name: logline, dtype: object\n",
      "______________________________:::::::::::::::::::::\n"
     ]
    },
    {
     "name": "stderr",
     "output_type": "stream",
     "text": [
      "/Users/ajay/Documents/NYU/Notes/BigData/Project/.venv/lib/python3.9/site-packages/sklearn/utils/_param_validation.py:594: FutureWarning: Passing an int for a boolean parameter is deprecated in version 1.2 and won't be supported anymore in version 1.4.\n",
      "  warnings.warn(\n"
     ]
    }
   ],
   "source": [
    "index_name = 'health_file_test'  # Replace with the name of your index\n",
    "# index_name = 'health_time_test'\n",
    "query = {\n",
    "    \"query\": {\n",
    "        \"match_all\": {}\n",
    "    },\n",
    "    \"size\":10000\n",
    "}\n",
    "resp,loglines, attributes, time_res, sem_res = queryclass.query_normal(index_name,query)\n"
   ]
  },
  {
   "cell_type": "code",
   "execution_count": 4,
   "metadata": {},
   "outputs": [
    {
     "name": "stdout",
     "output_type": "stream",
     "text": [
      "Starting logai...\n",
      "Loaded data...\n",
      "Preprocessed data...\n",
      "Parsed data...\n",
      "Start time series...\n",
      "Time, feature extraction...\n",
      "Time, did anomaly detecetion...\n",
      "Start semantic...\n"
     ]
    },
    {
     "name": "stderr",
     "output_type": "stream",
     "text": [
      "/Users/ajay/Documents/NYU/Notes/BigData/Project/log-anomalies/logai/logai/dataloader/data_loader.py:153: SettingWithCopyWarning: \n",
      "A value is trying to be set on a copy of a slice from a DataFrame.\n",
      "Try using .loc[row_indexer,col_indexer] = value instead\n",
      "\n",
      "See the caveats in the documentation: https://pandas.pydata.org/pandas-docs/stable/user_guide/indexing.html#returning-a-view-versus-a-copy\n",
      "  selected[constants.LOG_TIMESTAMPS] = pd.to_datetime(\n"
     ]
    },
    {
     "name": "stdout",
     "output_type": "stream",
     "text": [
      "Semantic, got features...\n",
      "Semantic, got anomalies...\n",
      "728    processHandleBroadcastAction action:android.in...\n",
      "964                              onStandStepChanged 3786\n",
      "515    processHandleBroadcastAction action:android.in...\n",
      "94                               onStandStepChanged 3626\n",
      "759                          registersensorsuccess: true\n",
      "Name: logline, dtype: object\n",
      "Starting logai...\n",
      "Loaded data...\n",
      "Preprocessed data...\n",
      "Parsed data...\n",
      "Start time series...\n",
      "Time, feature extraction...\n",
      "Time, did anomaly detecetion...\n",
      "Start semantic...\n"
     ]
    },
    {
     "name": "stderr",
     "output_type": "stream",
     "text": [
      "/Users/ajay/Documents/NYU/Notes/BigData/Project/.venv/lib/python3.9/site-packages/sklearn/utils/_param_validation.py:594: FutureWarning: Passing an int for a boolean parameter is deprecated in version 1.2 and won't be supported anymore in version 1.4.\n",
      "  warnings.warn(\n",
      "/Users/ajay/Documents/NYU/Notes/BigData/Project/log-anomalies/logai/logai/dataloader/data_loader.py:153: SettingWithCopyWarning: \n",
      "A value is trying to be set on a copy of a slice from a DataFrame.\n",
      "Try using .loc[row_indexer,col_indexer] = value instead\n",
      "\n",
      "See the caveats in the documentation: https://pandas.pydata.org/pandas-docs/stable/user_guide/indexing.html#returning-a-view-versus-a-copy\n",
      "  selected[constants.LOG_TIMESTAMPS] = pd.to_datetime(\n"
     ]
    },
    {
     "name": "stdout",
     "output_type": "stream",
     "text": [
      "Semantic, got features...\n",
      "Semantic, got anomalies...\n",
      "726    processHandleBroadcastAction action:android.in...\n",
      "879         calculateAltitudeWithCache totalAltitude=510\n",
      "346       insertHiHealthData() checkAppType  0 appID = 1\n",
      "676          calculateAltitudeWithCache totalAltitude=90\n",
      "463                             onStandStepChanged 10214\n",
      "Name: logline, dtype: object\n",
      "Retrieved 1000 documents, Total: 2000\n",
      "Last timestamp: 20171226-15:51:0:87, Hits in batch: 1000\n",
      "polling for more\n"
     ]
    },
    {
     "name": "stderr",
     "output_type": "stream",
     "text": [
      "/Users/ajay/Documents/NYU/Notes/BigData/Project/.venv/lib/python3.9/site-packages/sklearn/utils/_param_validation.py:594: FutureWarning: Passing an int for a boolean parameter is deprecated in version 1.2 and won't be supported anymore in version 1.4.\n",
      "  warnings.warn(\n"
     ]
    },
    {
     "name": "stdout",
     "output_type": "stream",
     "text": [
      "Starting logai...\n",
      "Loaded data...\n",
      "Preprocessed data...\n",
      "Parsed data...\n",
      "Start time series...\n",
      "Time, feature extraction...\n",
      "Time, did anomaly detecetion...\n",
      "Start semantic...\n"
     ]
    },
    {
     "name": "stderr",
     "output_type": "stream",
     "text": [
      "/Users/ajay/Documents/NYU/Notes/BigData/Project/log-anomalies/logai/logai/dataloader/data_loader.py:153: SettingWithCopyWarning: \n",
      "A value is trying to be set on a copy of a slice from a DataFrame.\n",
      "Try using .loc[row_indexer,col_indexer] = value instead\n",
      "\n",
      "See the caveats in the documentation: https://pandas.pydata.org/pandas-docs/stable/user_guide/indexing.html#returning-a-view-versus-a-copy\n",
      "  selected[constants.LOG_TIMESTAMPS] = pd.to_datetime(\n"
     ]
    },
    {
     "name": "stdout",
     "output_type": "stream",
     "text": [
      "Semantic, got features...\n",
      "Semantic, got anomalies...\n",
      "839           calculateAltitudeWithCache totalAltitude=0\n",
      "788    processHandleBroadcastAction action:android.in...\n",
      "82     processHandleBroadcastAction action:android.in...\n",
      "20      getTodayTotalDetailSteps = 1514284200000##429...\n",
      "743                      REPORT : 16414 11719 379504 630\n",
      "Name: logline, dtype: object\n",
      "Retrieved 1000 documents, Total: 3000\n",
      "Last timestamp: 20171225-0:46:19:957, Hits in batch: 1000\n",
      "polling for more\n"
     ]
    },
    {
     "name": "stderr",
     "output_type": "stream",
     "text": [
      "/Users/ajay/Documents/NYU/Notes/BigData/Project/.venv/lib/python3.9/site-packages/sklearn/utils/_param_validation.py:594: FutureWarning: Passing an int for a boolean parameter is deprecated in version 1.2 and won't be supported anymore in version 1.4.\n",
      "  warnings.warn(\n"
     ]
    },
    {
     "ename": "KeyboardInterrupt",
     "evalue": "",
     "output_type": "error",
     "traceback": [
      "\u001b[0;31m---------------------------------------------------------------------------\u001b[0m",
      "\u001b[0;31mKeyboardInterrupt\u001b[0m                         Traceback (most recent call last)",
      "Cell \u001b[0;32mIn[4], line 1\u001b[0m\n\u001b[0;32m----> 1\u001b[0m last_time \u001b[39m=\u001b[39m queryclass\u001b[39m.\u001b[39;49mquery_streaming(index_name\u001b[39m=\u001b[39;49m\u001b[39m'\u001b[39;49m\u001b[39mhealth_file_test\u001b[39;49m\u001b[39m'\u001b[39;49m,size_per_batch\u001b[39m=\u001b[39;49m\u001b[39m1000\u001b[39;49m)\n",
      "File \u001b[0;32m~/Documents/NYU/Notes/BigData/Project/log-anomalies/logai/query_from_bonsai.py:88\u001b[0m, in \u001b[0;36mbonsai2logai.query_streaming\u001b[0;34m(self, index_name, from_time, query, sort_key, query_continue_sort, size_per_batch, wait_before_poll)\u001b[0m\n\u001b[1;32m     85\u001b[0m         \u001b[39mprint\u001b[39m(\u001b[39mf\u001b[39m\u001b[39m\"\u001b[39m\u001b[39mLast timestamp: \u001b[39m\u001b[39m{\u001b[39;00mlast_time\u001b[39m}\u001b[39;00m\u001b[39m, Hits in batch: \u001b[39m\u001b[39m{\u001b[39;00m\u001b[39mlen\u001b[39m(hits)\u001b[39m}\u001b[39;00m\u001b[39m\"\u001b[39m)\n\u001b[1;32m     87\u001b[0m     \u001b[39mprint\u001b[39m(\u001b[39m\"\u001b[39m\u001b[39mpolling for more\u001b[39m\u001b[39m\"\u001b[39m)\n\u001b[0;32m---> 88\u001b[0m     time\u001b[39m.\u001b[39;49msleep(wait_before_poll)  \u001b[39m# Adjust as needed\u001b[39;00m\n\u001b[1;32m     90\u001b[0m \u001b[39mexcept\u001b[39;00m \u001b[39mException\u001b[39;00m \u001b[39mas\u001b[39;00m e:\n\u001b[1;32m     91\u001b[0m     \u001b[39mprint\u001b[39m(\u001b[39m\"\u001b[39m\u001b[39mAn error occurred:\u001b[39m\u001b[39m\"\u001b[39m, e)\n",
      "\u001b[0;31mKeyboardInterrupt\u001b[0m: "
     ]
    }
   ],
   "source": [
    "last_time = queryclass.query_streaming(index_name='health_file_test',size_per_batch=1000) # query data as batches and send to logAi "
   ]
  },
  {
   "cell_type": "code",
   "execution_count": null,
   "metadata": {},
   "outputs": [],
   "source": []
  }
 ],
 "metadata": {
  "kernelspec": {
   "display_name": "Python 3",
   "language": "python",
   "name": "python3"
  },
  "language_info": {
   "codemirror_mode": {
    "name": "ipython",
    "version": 3
   },
   "file_extension": ".py",
   "mimetype": "text/x-python",
   "name": "python",
   "nbconvert_exporter": "python",
   "pygments_lexer": "ipython3",
   "version": "3.9.6"
  },
  "orig_nbformat": 4
 },
 "nbformat": 4,
 "nbformat_minor": 2
}
